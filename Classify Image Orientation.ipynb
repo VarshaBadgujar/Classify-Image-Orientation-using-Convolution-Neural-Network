{
 "cells": [
  {
   "cell_type": "markdown",
   "metadata": {},
   "source": [
    "## Classify Image Orientation using Convolution Neural Network"
   ]
  },
  {
   "cell_type": "code",
   "execution_count": 1,
   "metadata": {
    "id": "R-BEfR_98ZkA"
   },
   "outputs": [],
   "source": [
    "# To download datasets from Hugginf Face Hub\n",
    "#pip install datasets\n"
   ]
  },
  {
   "cell_type": "code",
   "execution_count": 2,
   "metadata": {
    "id": "0PdcOjtM8f_0"
   },
   "outputs": [],
   "source": [
    "# Import required libraries\n",
    "\n",
    "import datasets\n",
    "import tensorflow as tf\n",
    "import matplotlib.pyplot as plt\n",
    "import numpy as np\n",
    "from tensorflow.keras.models import Sequential\n",
    "from tensorflow.keras.layers import Conv2D, MaxPooling2D,Flatten, Dense,LeakyReLU,Dropout\n",
    "from tensorflow.keras.models import load_model\n",
    "from tensorflow.keras.preprocessing import image"
   ]
  },
  {
   "cell_type": "code",
   "execution_count": 3,
   "metadata": {
    "colab": {
     "base_uri": "https://localhost:8080/"
    },
    "id": "dSferImwCccy",
    "outputId": "640dca67-5d8d-4005-b73c-a180029e26b5"
   },
   "outputs": [
    {
     "name": "stderr",
     "output_type": "stream",
     "text": [
      "Reusing dataset cifar100 (C:\\Users\\famil\\.cache\\huggingface\\datasets\\cifar100\\cifar100\\1.0.0\\f365c8b725c23e8f0f8d725c3641234d9331cd2f62919d1381d1baa5b3ba3142)\n"
     ]
    },
    {
     "data": {
      "text/plain": [
       "Dataset({\n",
       "    features: ['img', 'fine_label', 'coarse_label'],\n",
       "    num_rows: 20\n",
       "})"
      ]
     },
     "execution_count": 3,
     "metadata": {},
     "output_type": "execute_result"
    }
   ],
   "source": [
    "# Initial 20 'cifar100' images used for model\n",
    "from datasets import load_dataset, Image\n",
    "\n",
    "dataset = load_dataset(\"cifar100\", split=\"train[:20]\")\n",
    "dataset"
   ]
  },
  {
   "cell_type": "code",
   "execution_count": 4,
   "metadata": {
    "colab": {
     "base_uri": "https://localhost:8080/"
    },
    "id": "2TKp9wisTshx",
    "outputId": "ddfe2bf0-d2c8-4b1f-90b6-b3f6da1897ca"
   },
   "outputs": [
    {
     "data": {
      "text/plain": [
       "PIL.PngImagePlugin.PngImageFile"
      ]
     },
     "execution_count": 4,
     "metadata": {},
     "output_type": "execute_result"
    }
   ],
   "source": [
    "# Type of Image\n",
    "type(dataset[5][\"img\"])"
   ]
  },
  {
   "cell_type": "code",
   "execution_count": 5,
   "metadata": {},
   "outputs": [
    {
     "name": "stdout",
     "output_type": "stream",
     "text": [
      "(32, 32, 3)\n"
     ]
    }
   ],
   "source": [
    "# Images converted to numpy array for processing\n",
    "im0 = np.asarray(dataset[0][\"img\"])\n",
    "print(im0.shape)\n"
   ]
  },
  {
   "cell_type": "code",
   "execution_count": 6,
   "metadata": {},
   "outputs": [
    {
     "data": {
      "text/plain": [
       "<matplotlib.image.AxesImage at 0x242122b8b80>"
      ]
     },
     "execution_count": 6,
     "metadata": {},
     "output_type": "execute_result"
    },
    {
     "data": {
      "image/png": "[encoded data removed]",
      "text/plain": [
       "<Figure size 72x72 with 1 Axes>"
      ]
     },
     "metadata": {
      "needs_background": "light"
     },
     "output_type": "display_data"
    }
   ],
   "source": [
    "plt.figure(figsize=(1,1))\n",
    "plt.imshow(im0)"
   ]
  },
  {
   "cell_type": "markdown",
   "metadata": {},
   "source": [
    "#Synthetically turned the images upside down and created the training and test datasets\n",
    "using tf.image.flip_up_down(image)"
   ]
  },
  {
   "cell_type": "code",
   "execution_count": 7,
   "metadata": {},
   "outputs": [],
   "source": [
    "# Load dataset\n",
    "\n",
    "dataset=r'path\\vision'"
   ]
  },
  {
   "cell_type": "code",
   "execution_count": 8,
   "metadata": {},
   "outputs": [],
   "source": [
    "# Defined Parameters\n",
    "batch_size = 32\n",
    "img_height = 32\n",
    "img_width = 32"
   ]
  },
  {
   "cell_type": "code",
   "execution_count": 9,
   "metadata": {},
   "outputs": [
    {
     "name": "stdout",
     "output_type": "stream",
     "text": [
      "Found 40 files belonging to 2 classes.\n",
      "Using 32 files for training.\n"
     ]
    }
   ],
   "source": [
    "# Data Preparation for developing the model - 80% of images for training dataset and 20% of images for validation dataset\n",
    "\n",
    "train_ds = tf.keras.utils.image_dataset_from_directory(\n",
    "                                              dataset,\n",
    "                                              validation_split=0.2,\n",
    "                                              subset=\"training\",\n",
    "                                              seed=123,\n",
    "                                              image_size=(img_height, img_width),\n",
    "                                              batch_size=batch_size)"
   ]
  },
  {
   "cell_type": "code",
   "execution_count": 10,
   "metadata": {
    "scrolled": true
   },
   "outputs": [
    {
     "name": "stdout",
     "output_type": "stream",
     "text": [
      "Found 40 files belonging to 2 classes.\n",
      "Using 8 files for validation.\n"
     ]
    }
   ],
   "source": [
    "test_ds = tf.keras.utils.image_dataset_from_directory(\n",
    "                                             dataset,\n",
    "                                              validation_split=0.2,\n",
    "                                              subset=\"validation\",\n",
    "                                              seed=123,\n",
    "                                              image_size=(img_height, img_width),\n",
    "                                              batch_size=batch_size)"
   ]
  },
  {
   "cell_type": "code",
   "execution_count": 11,
   "metadata": {},
   "outputs": [
    {
     "name": "stdout",
     "output_type": "stream",
     "text": [
      "['flipped_down', 'original']\n"
     ]
    }
   ],
   "source": [
    "# Image Labels\n",
    "class_names = train_ds.class_names\n",
    "print(class_names)"
   ]
  },
  {
   "cell_type": "code",
   "execution_count": 12,
   "metadata": {},
   "outputs": [
    {
     "data": {
      "image/png": "[encoded data removed]",
      "text/plain": [
       "<Figure size 720x720 with 12 Axes>"
      ]
     },
     "metadata": {
      "needs_background": "light"
     },
     "output_type": "display_data"
    }
   ],
   "source": [
    "# Some images\n",
    "\n",
    "import matplotlib.pyplot as plt\n",
    "\n",
    "plt.figure(figsize=(10, 10))\n",
    "for images, labels in train_ds.take(1):\n",
    "    for i in range(12):\n",
    "        ax = plt.subplot(4, 3, i + 1)\n",
    "        plt.imshow(images[i].numpy().astype(\"uint8\"))\n",
    "        plt.title(class_names[labels[i]])\n",
    "        #plt.axis(\"off\")"
   ]
  },
  {
   "cell_type": "code",
   "execution_count": 13,
   "metadata": {},
   "outputs": [
    {
     "name": "stdout",
     "output_type": "stream",
     "text": [
      "(32, 32, 32, 3)\n",
      "(32,)\n"
     ]
    }
   ],
   "source": [
    "# Shape of images \n",
    "for image_batch, labels_batch in train_ds:\n",
    "    print(image_batch.shape)\n",
    "    print(labels_batch.shape)\n",
    "    break"
   ]
  },
  {
   "cell_type": "code",
   "execution_count": 14,
   "metadata": {},
   "outputs": [
    {
     "name": "stdout",
     "output_type": "stream",
     "text": [
      "0.0 1.0\n"
     ]
    }
   ],
   "source": [
    "# Normalize the data between 0 and 1\n",
    "\n",
    "normalization_layer = tf.keras.layers.Rescaling(1./255)\n",
    "\n",
    "normalized_ds = train_ds.map(lambda x, y: (normalization_layer(x), y))\n",
    "image_batch, labels_batch = next(iter(normalized_ds))\n",
    "first_image = image_batch[0]\n",
    "#  pixel values are now in `[0,1]`.\n",
    "print(np.min(first_image), np.max(first_image))"
   ]
  },
  {
   "cell_type": "markdown",
   "metadata": {},
   "source": [
    "# Model creation"
   ]
  },
  {
   "cell_type": "code",
   "execution_count": 15,
   "metadata": {},
   "outputs": [
    {
     "name": "stdout",
     "output_type": "stream",
     "text": [
      "Model: \"sequential\"\n",
      "_________________________________________________________________\n",
      " Layer (type)                Output Shape              Param #   \n",
      "=================================================================\n",
      " conv2d (Conv2D)             (None, 30, 30, 32)        896       \n",
      "                                                                 \n",
      " max_pooling2d (MaxPooling2D  (None, 15, 15, 32)       0         \n",
      " )                                                               \n",
      "                                                                 \n",
      " conv2d_1 (Conv2D)           (None, 13, 13, 128)       36992     \n",
      "                                                                 \n",
      " max_pooling2d_1 (MaxPooling  (None, 6, 6, 128)        0         \n",
      " 2D)                                                             \n",
      "                                                                 \n",
      " dropout (Dropout)           (None, 6, 6, 128)         0         \n",
      "                                                                 \n",
      " conv2d_2 (Conv2D)           (None, 4, 4, 128)         147584    \n",
      "                                                                 \n",
      " max_pooling2d_2 (MaxPooling  (None, 2, 2, 128)        0         \n",
      " 2D)                                                             \n",
      "                                                                 \n",
      " flatten (Flatten)           (None, 512)               0         \n",
      "                                                                 \n",
      " dense (Dense)               (None, 64)                32832     \n",
      "                                                                 \n",
      " dense_1 (Dense)             (None, 1)                 65        \n",
      "                                                                 \n",
      "=================================================================\n",
      "Total params: 218,369\n",
      "Trainable params: 218,369\n",
      "Non-trainable params: 0\n",
      "_________________________________________________________________\n"
     ]
    }
   ],
   "source": [
    "\n",
    "\n",
    "# Initialising the CNN\n",
    "classifier = Sequential()\n",
    "\n",
    "# Step 1 - Convolution\n",
    "classifier.add(Conv2D(32, (3, 3),\n",
    "                      input_shape = (32,32, 3),\n",
    "                      activation='relu'))\n",
    "\n",
    "# Step 2 - Pooling\n",
    "classifier.add(MaxPooling2D(pool_size = (2, 2)))\n",
    "\n",
    "# Adding a second convolutional layer\n",
    "classifier.add(Conv2D(128, (3, 3), activation='relu'))\n",
    "classifier.add(MaxPooling2D(pool_size = (2, 2)))\n",
    "\n",
    "# Step 3:DropOut\n",
    "classifier.add(Dropout(0.2))\n",
    "\n",
    "\n",
    "# Adding a third convolutional layer\n",
    "classifier.add(Conv2D(128, (3, 3), activation='relu'))\n",
    "classifier.add(MaxPooling2D(pool_size = (2, 2)))\n",
    "\n",
    "\n",
    "# Step 3 - Flattening\n",
    "classifier.add(Flatten())\n",
    "\n",
    "# Step 4 - Full connection\n",
    "classifier.add(Dense(units = 64, activation = 'relu'))\n",
    "\n",
    "classifier.add(Dense(units = 1, activation = 'sigmoid'))\n",
    " \n",
    "# Compiling the CNN\n",
    "classifier.compile(optimizer = 'adam',\n",
    "                   loss = 'binary_crossentropy',\n",
    "                   metrics = ['accuracy'])\n",
    "\n",
    "# Architecture\n",
    "classifier.summary()"
   ]
  },
  {
   "cell_type": "code",
   "execution_count": 16,
   "metadata": {
    "collapsed": true
   },
   "outputs": [
    {
     "name": "stdout",
     "output_type": "stream",
     "text": [
      "Epoch 1/30\n",
      "1/1 [==============================] - 1s 583ms/step - loss: 8.0759 - accuracy: 0.4688 - val_loss: 65.8844 - val_accuracy: 0.3750\n",
      "Epoch 2/30\n",
      "1/1 [==============================] - 0s 55ms/step - loss: 56.8379 - accuracy: 0.5312 - val_loss: 44.0042 - val_accuracy: 0.3750\n",
      "Epoch 3/30\n",
      "1/1 [==============================] - 0s 53ms/step - loss: 37.1723 - accuracy: 0.5312 - val_loss: 19.3329 - val_accuracy: 0.3750\n",
      "Epoch 4/30\n",
      "1/1 [==============================] - 0s 53ms/step - loss: 15.8756 - accuracy: 0.5312 - val_loss: 1.9650 - val_accuracy: 0.3750\n",
      "Epoch 5/30\n",
      "1/1 [==============================] - 0s 53ms/step - loss: 1.4472 - accuracy: 0.5625 - val_loss: 7.1783 - val_accuracy: 0.6250\n",
      "Epoch 6/30\n",
      "1/1 [==============================] - 0s 52ms/step - loss: 10.0546 - accuracy: 0.4688 - val_loss: 7.2428 - val_accuracy: 0.6250\n",
      "Epoch 7/30\n",
      "1/1 [==============================] - 0s 53ms/step - loss: 10.8675 - accuracy: 0.4688 - val_loss: 5.4277 - val_accuracy: 0.6250\n",
      "Epoch 8/30\n",
      "1/1 [==============================] - 0s 58ms/step - loss: 8.0960 - accuracy: 0.4688 - val_loss: 3.0680 - val_accuracy: 0.6250\n",
      "Epoch 9/30\n",
      "1/1 [==============================] - 0s 53ms/step - loss: 4.2233 - accuracy: 0.4688 - val_loss: 1.5826 - val_accuracy: 0.2500\n",
      "Epoch 10/30\n",
      "1/1 [==============================] - 0s 52ms/step - loss: 0.9566 - accuracy: 0.5625 - val_loss: 3.8654 - val_accuracy: 0.3750\n",
      "Epoch 11/30\n",
      "1/1 [==============================] - 0s 50ms/step - loss: 2.0399 - accuracy: 0.5625 - val_loss: 4.8986 - val_accuracy: 0.3750\n",
      "Epoch 12/30\n",
      "1/1 [==============================] - 0s 50ms/step - loss: 2.7751 - accuracy: 0.5312 - val_loss: 4.5146 - val_accuracy: 0.3750\n",
      "Epoch 13/30\n",
      "1/1 [==============================] - 0s 52ms/step - loss: 2.3938 - accuracy: 0.5312 - val_loss: 3.3799 - val_accuracy: 0.3750\n",
      "Epoch 14/30\n",
      "1/1 [==============================] - 0s 52ms/step - loss: 1.5270 - accuracy: 0.5312 - val_loss: 2.1535 - val_accuracy: 0.3750\n",
      "Epoch 15/30\n",
      "1/1 [==============================] - 0s 74ms/step - loss: 0.8697 - accuracy: 0.6250 - val_loss: 1.3662 - val_accuracy: 0.2500\n",
      "Epoch 16/30\n",
      "1/1 [==============================] - 0s 53ms/step - loss: 0.3691 - accuracy: 0.8125 - val_loss: 1.0628 - val_accuracy: 0.5000\n",
      "Epoch 17/30\n",
      "1/1 [==============================] - 0s 53ms/step - loss: 0.6406 - accuracy: 0.5625 - val_loss: 1.0241 - val_accuracy: 0.5000\n",
      "Epoch 18/30\n",
      "1/1 [==============================] - 0s 54ms/step - loss: 0.6244 - accuracy: 0.5625 - val_loss: 0.9748 - val_accuracy: 0.5000\n",
      "Epoch 19/30\n",
      "1/1 [==============================] - 0s 53ms/step - loss: 0.7013 - accuracy: 0.6250 - val_loss: 0.9519 - val_accuracy: 0.5000\n",
      "Epoch 20/30\n",
      "1/1 [==============================] - 0s 54ms/step - loss: 0.4288 - accuracy: 0.7500 - val_loss: 0.9601 - val_accuracy: 0.3750\n",
      "Epoch 21/30\n",
      "1/1 [==============================] - 0s 54ms/step - loss: 0.4316 - accuracy: 0.7812 - val_loss: 1.0202 - val_accuracy: 0.2500\n",
      "Epoch 22/30\n",
      "1/1 [==============================] - 0s 56ms/step - loss: 0.3581 - accuracy: 0.8438 - val_loss: 1.0832 - val_accuracy: 0.3750\n",
      "Epoch 23/30\n",
      "1/1 [==============================] - 0s 53ms/step - loss: 0.3373 - accuracy: 0.9375 - val_loss: 1.1374 - val_accuracy: 0.1250\n",
      "Epoch 24/30\n",
      "1/1 [==============================] - 0s 51ms/step - loss: 0.4290 - accuracy: 0.8125 - val_loss: 1.1389 - val_accuracy: 0.1250\n",
      "Epoch 25/30\n",
      "1/1 [==============================] - 0s 55ms/step - loss: 0.3739 - accuracy: 0.8438 - val_loss: 1.1317 - val_accuracy: 0.1250\n",
      "Epoch 26/30\n",
      "1/1 [==============================] - 0s 54ms/step - loss: 0.3695 - accuracy: 0.8750 - val_loss: 1.1135 - val_accuracy: 0.1250\n",
      "Epoch 27/30\n",
      "1/1 [==============================] - 0s 53ms/step - loss: 0.3033 - accuracy: 0.9688 - val_loss: 1.0845 - val_accuracy: 0.1250\n",
      "Epoch 28/30\n",
      "1/1 [==============================] - 0s 51ms/step - loss: 0.2748 - accuracy: 0.9688 - val_loss: 1.0703 - val_accuracy: 0.1250\n",
      "Epoch 29/30\n",
      "1/1 [==============================] - 0s 56ms/step - loss: 0.2658 - accuracy: 1.0000 - val_loss: 1.0590 - val_accuracy: 0.2500\n",
      "Epoch 30/30\n",
      "1/1 [==============================] - 0s 51ms/step - loss: 0.2640 - accuracy: 0.9688 - val_loss: 1.0513 - val_accuracy: 0.3750\n"
     ]
    }
   ],
   "source": [
    "\n",
    "#Fit the model\n",
    "history=classifier.fit(train_ds,validation_data=test_ds,epochs = 30)\n"
   ]
  },
  {
   "cell_type": "code",
   "execution_count": 17,
   "metadata": {},
   "outputs": [
    {
     "name": "stdout",
     "output_type": "stream",
     "text": [
      "1/1 - 0s - loss: 0.2398 - accuracy: 0.9688 - 24ms/epoch - 24ms/step\n",
      "1/1 - 0s - loss: 1.0513 - accuracy: 0.3750 - 18ms/epoch - 18ms/step\n"
     ]
    },
    {
     "data": {
      "image/png": "[encoded data removed]",
      "text/plain": [
       "<Figure size 432x288 with 1 Axes>"
      ]
     },
     "metadata": {
      "needs_background": "light"
     },
     "output_type": "display_data"
    }
   ],
   "source": [
    "# Plot the Accuracy and Validation accuracy of model \n",
    "plt.plot(history.history['accuracy'], label='accuracy')\n",
    "plt.plot(history.history['val_accuracy'], label = 'val_accuracy')\n",
    "plt.xlabel('Epoch')\n",
    "plt.ylabel('Accuracy')\n",
    "plt.ylim([0.5, 1])\n",
    "plt.legend(loc='lower right')\n",
    "\n",
    "# Model Evaluation\n",
    "train_loss, train_acc = classifier.evaluate(train_ds,verbose=2)\n",
    "\n",
    "test_loss, test_acc = classifier.evaluate(test_ds,verbose=2)\n"
   ]
  },
  {
   "cell_type": "code",
   "execution_count": 18,
   "metadata": {},
   "outputs": [
    {
     "name": "stdout",
     "output_type": "stream",
     "text": [
      "Training Loss and Training Accuracy : 0.23982076346874237 0.96875\n",
      "\n",
      "Validation Loss and Validation Accuracy : 1.0513066053390503 0.375\n"
     ]
    }
   ],
   "source": [
    "print(\"Training Loss and Training Accuracy :\",train_loss, train_acc)\n",
    "print(\"\\nValidation Loss and Validation Accuracy :\",test_loss, test_acc)"
   ]
  },
  {
   "cell_type": "code",
   "execution_count": 19,
   "metadata": {},
   "outputs": [],
   "source": [
    "# Save the model\n",
    "classifier.save(\"orientation.h5\")"
   ]
  },
  {
   "cell_type": "markdown",
   "metadata": {},
   "source": [
    "# Testing Model"
   ]
  },
  {
   "cell_type": "code",
   "execution_count": 20,
   "metadata": {},
   "outputs": [],
   "source": [
    "# Testing Images\n",
    "\n",
    "test_image1=image.load_img(r\"C:\\Users\\famil\\OneDrive\\Varsha\\Python\\AI_Programs\\vision_test\\flippeddown1.png\",target_size=(32,32))\n",
    "\n",
    "test_image2=image.load_img(r\"C:\\Users\\famil\\OneDrive\\Varsha\\Python\\AI_Programs\\vision_test\\flippeddown2.png\",target_size=(32,32))\n",
    "\n",
    "test_image3=image.load_img(r\"C:\\Users\\famil\\OneDrive\\Varsha\\Python\\AI_Programs\\vision_test\\original1.png\",target_size=(32,32))\n",
    "\n",
    "test_image4=image.load_img(r\"C:\\Users\\famil\\OneDrive\\Varsha\\Python\\AI_Programs\\vision_test\\original2.png\",target_size=(32,32))"
   ]
  },
  {
   "cell_type": "code",
   "execution_count": 21,
   "metadata": {},
   "outputs": [
    {
     "name": "stdout",
     "output_type": "stream",
     "text": [
      "<class 'PIL.PngImagePlugin.PngImageFile'> <class 'PIL.PngImagePlugin.PngImageFile'>\n"
     ]
    }
   ],
   "source": [
    "print(type(test_image1),type(test_image2)) # PIL-Python Image Library"
   ]
  },
  {
   "cell_type": "code",
   "execution_count": 22,
   "metadata": {},
   "outputs": [
    {
     "data": {
      "text/plain": [
       "<matplotlib.image.AxesImage at 0x24215701a90>"
      ]
     },
     "execution_count": 22,
     "metadata": {},
     "output_type": "execute_result"
    },
    {
     "data": {
      "image/png": "[encoded data removed]",
      "text/plain": [
       "<Figure size 144x144 with 1 Axes>"
      ]
     },
     "metadata": {
      "needs_background": "light"
     },
     "output_type": "display_data"
    }
   ],
   "source": [
    "# Orientation changed - Flipped Image\n",
    "plt.figure(figsize=(2,2))\n",
    "plt.imshow(test_image1)"
   ]
  },
  {
   "cell_type": "code",
   "execution_count": 23,
   "metadata": {},
   "outputs": [
    {
     "data": {
      "text/plain": [
       "<matplotlib.image.AxesImage at 0x2421575a670>"
      ]
     },
     "execution_count": 23,
     "metadata": {},
     "output_type": "execute_result"
    },
    {
     "data": {
      "image/png": "[encoded data removed]",
      "text/plain": [
       "<Figure size 144x144 with 1 Axes>"
      ]
     },
     "metadata": {
      "needs_background": "light"
     },
     "output_type": "display_data"
    }
   ],
   "source": [
    "# Orientation changed - Flipped Image\n",
    "plt.figure(figsize=(2,2))\n",
    "plt.imshow(test_image2)"
   ]
  },
  {
   "cell_type": "code",
   "execution_count": 24,
   "metadata": {},
   "outputs": [
    {
     "data": {
      "text/plain": [
       "<matplotlib.image.AxesImage at 0x242157b4190>"
      ]
     },
     "execution_count": 24,
     "metadata": {},
     "output_type": "execute_result"
    },
    {
     "data": {
      "image/png": "[encoded data removed]",
      "text/plain": [
       "<Figure size 144x144 with 1 Axes>"
      ]
     },
     "metadata": {
      "needs_background": "light"
     },
     "output_type": "display_data"
    }
   ],
   "source": [
    "# Original Image\n",
    "plt.figure(figsize=(2,2))\n",
    "plt.imshow(test_image3)"
   ]
  },
  {
   "cell_type": "code",
   "execution_count": 25,
   "metadata": {},
   "outputs": [
    {
     "data": {
      "text/plain": [
       "<matplotlib.image.AxesImage at 0x242157fac10>"
      ]
     },
     "execution_count": 25,
     "metadata": {},
     "output_type": "execute_result"
    },
    {
     "data": {
      "image/png": "[encoded data removed]",
      "text/plain": [
       "<Figure size 144x144 with 1 Axes>"
      ]
     },
     "metadata": {
      "needs_background": "light"
     },
     "output_type": "display_data"
    }
   ],
   "source": [
    "# Original Image\n",
    "plt.figure(figsize=(2,2))\n",
    "plt.imshow(test_image4)"
   ]
  },
  {
   "cell_type": "code",
   "execution_count": 26,
   "metadata": {},
   "outputs": [],
   "source": [
    "# Convert image to numpy array\n",
    "\n",
    "test_image1_arr = np.asarray(test_image1)\n",
    "test_image2_arr = np.asarray(test_image2)\n",
    "test_image3_arr = np.asarray(test_image3)\n",
    "test_image4_arr = np.asarray(test_image4)\n"
   ]
  },
  {
   "cell_type": "code",
   "execution_count": 27,
   "metadata": {},
   "outputs": [
    {
     "data": {
      "text/plain": [
       "(32, 32, 3)"
      ]
     },
     "execution_count": 27,
     "metadata": {},
     "output_type": "execute_result"
    }
   ],
   "source": [
    "test_image1_arr.shape"
   ]
  },
  {
   "cell_type": "code",
   "execution_count": 28,
   "metadata": {},
   "outputs": [
    {
     "data": {
      "text/plain": [
       "<matplotlib.image.AxesImage at 0x2421584d5b0>"
      ]
     },
     "execution_count": 28,
     "metadata": {},
     "output_type": "execute_result"
    },
    {
     "data": {
      "image/png": "[encoded data removed]",
      "text/plain": [
       "<Figure size 432x288 with 1 Axes>"
      ]
     },
     "metadata": {
      "needs_background": "light"
     },
     "output_type": "display_data"
    }
   ],
   "source": [
    "plt.imshow(test_image2_arr)"
   ]
  },
  {
   "cell_type": "code",
   "execution_count": 29,
   "metadata": {},
   "outputs": [],
   "source": [
    "# expand dimension by rows i.e by samples i.e axis=0(first axis) -sample axis and second axis-axis=1 is feature axis\n",
    "test_image1_arr=np.expand_dims(test_image1_arr,axis=0) \n",
    "\n",
    "# changing image as a row of image\n",
    "test_image2_arr=np.expand_dims(test_image2_arr,axis=0)\n",
    "test_image3_arr=np.expand_dims(test_image3_arr,axis=0)\n",
    "test_image4_arr=np.expand_dims(test_image4_arr,axis=0)"
   ]
  },
  {
   "cell_type": "code",
   "execution_count": 30,
   "metadata": {},
   "outputs": [
    {
     "data": {
      "text/plain": [
       "((1, 32, 32, 3), (1, 32, 32, 3))"
      ]
     },
     "execution_count": 30,
     "metadata": {},
     "output_type": "execute_result"
    }
   ],
   "source": [
    "test_image1_arr.shape,test_image2_arr.shape"
   ]
  },
  {
   "cell_type": "code",
   "execution_count": 31,
   "metadata": {},
   "outputs": [],
   "source": [
    "# Load the model\n",
    "my_model=load_model(\"orientation.h5\")"
   ]
  },
  {
   "cell_type": "code",
   "execution_count": 32,
   "metadata": {},
   "outputs": [
    {
     "name": "stdout",
     "output_type": "stream",
     "text": [
      "Orientation changed_flipped down\n"
     ]
    }
   ],
   "source": [
    "result1=my_model.predict(test_image1_arr)\n",
    "\n",
    "if result1[0][0]==1: #result[0][0]\n",
    "    print(\"Orientation-Original\")\n",
    "else:\n",
    "    print(\"Orientation changed_flipped down\")"
   ]
  },
  {
   "cell_type": "code",
   "execution_count": 33,
   "metadata": {},
   "outputs": [
    {
     "name": "stdout",
     "output_type": "stream",
     "text": [
      "Orientation changed_flipped down\n"
     ]
    }
   ],
   "source": [
    "result2=my_model.predict(test_image2_arr)\n",
    "if result2[0][0]==1: #result[0][0]\n",
    "    print(\"Orientation-Original\")\n",
    "else:\n",
    "    print(\"Orientation changed_flipped down\")"
   ]
  },
  {
   "cell_type": "code",
   "execution_count": 34,
   "metadata": {},
   "outputs": [
    {
     "name": "stdout",
     "output_type": "stream",
     "text": [
      "Orientation changed_flipped down\n"
     ]
    }
   ],
   "source": [
    "result3=my_model.predict(test_image3_arr)\n",
    "if result3[0][0]==1: #result[0][0]\n",
    "    print(\"Orientation-Original\")\n",
    "else:\n",
    "    print(\"Orientation changed_flipped down\")"
   ]
  },
  {
   "cell_type": "code",
   "execution_count": 35,
   "metadata": {},
   "outputs": [
    {
     "name": "stdout",
     "output_type": "stream",
     "text": [
      "Orientation changed_flipped down\n"
     ]
    }
   ],
   "source": [
    "result4=my_model.predict(test_image4_arr)\n",
    "if result4[0][0]==1: #result[0][0]\n",
    "    print(\"Orientation-Original\")\n",
    "else:\n",
    "    print(\"Orientation changed_flipped down\")"
   ]
  },
  {
   "cell_type": "code",
   "execution_count": null,
   "metadata": {},
   "outputs": [],
   "source": []
  },
  {
   "cell_type": "code",
   "execution_count": null,
   "metadata": {},
   "outputs": [],
   "source": []
  },
  {
   "cell_type": "code",
   "execution_count": null,
   "metadata": {},
   "outputs": [],
   "source": []
  }
 ],
 "metadata": {
  "colab": {
   "collapsed_sections": [],
   "name": "Copy of Vision.ipynb",
   "provenance": []
  },
  "kernelspec": {
   "display_name": "Python 3 (ipykernel)",
   "language": "python",
   "name": "python3"
  },
  "language_info": {
   "codemirror_mode": {
    "name": "ipython",
    "version": 3
   },
   "file_extension": ".py",
   "mimetype": "text/x-python",
   "name": "python",
   "nbconvert_exporter": "python",
   "pygments_lexer": "ipython3",
   "version": "3.9.7"
  }
 },
 "nbformat": 4,
 "nbformat_minor": 1
}
